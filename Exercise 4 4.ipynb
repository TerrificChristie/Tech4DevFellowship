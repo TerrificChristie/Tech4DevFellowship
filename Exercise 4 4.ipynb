{
 "cells": [
  {
   "cell_type": "markdown",
   "id": "2e912eef",
   "metadata": {},
   "source": [
    "1. Write a program to produce the following output using for loop\n",
    "+----+\n",
    "\\ /\n",
    "/ \\\n",
    "\\ /\n",
    "/ \\\n",
    "\\ /\n",
    "/ \\\n",
    "+----+"
   ]
  },
  {
   "cell_type": "code",
   "execution_count": 3,
   "id": "892da22a",
   "metadata": {
    "scrolled": true
   },
   "outputs": [
    {
     "name": "stdout",
     "output_type": "stream",
     "text": [
      "+----+\n",
      "\\ /\n",
      "/ \\\n",
      "\\ /\n",
      "/ \\\n",
      "\\ /\n",
      "/ \\\n",
      "+----+\n"
     ]
    }
   ],
   "source": [
    "def print_pattern():\n",
    "    for i in range(5):\n",
    "        if i % 4 == 0:\n",
    "            print(\"+----+\")\n",
    "        else:\n",
    "            print(\"\\\\ /\")\n",
    "            print(\"/ \\\\\")\n",
    "\n",
    "# Call the function to print the pattern\n",
    "print_pattern()\n"
   ]
  },
  {
   "cell_type": "markdown",
   "id": "7ee6f034",
   "metadata": {},
   "source": [
    "2. Write a program to produce the following output using for loop\n",
    "**********\n",
    "**********\n",
    "**********\n",
    "**********\n",
    "**********"
   ]
  },
  {
   "cell_type": "code",
   "execution_count": 5,
   "id": "1b560063",
   "metadata": {},
   "outputs": [
    {
     "name": "stdout",
     "output_type": "stream",
     "text": [
      "**********\n",
      "**********\n",
      "**********\n",
      "**********\n",
      "**********\n"
     ]
    }
   ],
   "source": [
    "def print_pattern():\n",
    "    for i in range(5):\n",
    "        print(\"**********\")\n",
    "\n",
    "# Call the function to print the pattern\n",
    "print_pattern()\n"
   ]
  },
  {
   "cell_type": "markdown",
   "id": "a774d218",
   "metadata": {},
   "source": [
    "3. Complete the code for the following for loop:\n",
    "for in range(1,7):\n",
    "      //your code here\n",
    "so that it prints the following numbers, one per line:\n",
    "a) 1 b) 2 c) 4  d) 30 e) -7 f) 97 g) -4\n",
    "   2    4    19   20    -3    94    14\n",
    "   3    6    34   10     1    91    32\n",
    "   4    8    49    0     5    88    50\n",
    "   5   10    64   -10    9    85    68\n",
    "   6   12    79   -20    13   82    86\n"
   ]
  },
  {
   "cell_type": "code",
   "execution_count": 7,
   "id": "789310f9",
   "metadata": {},
   "outputs": [
    {
     "name": "stdout",
     "output_type": "stream",
     "text": [
      "1\n",
      "1\n",
      "2\n",
      "3\n",
      "4\n",
      "5\n",
      "6\n",
      "2\n",
      "2\n",
      "4\n",
      "6\n",
      "8\n",
      "10\n",
      "12\n",
      "3\n",
      "4\n",
      "10\n",
      "18\n",
      "28\n",
      "40\n",
      "54\n",
      "4\n",
      "0\n",
      "6\n",
      "14\n",
      "24\n",
      "36\n",
      "50\n",
      "5\n",
      "-4\n",
      "-6\n",
      "-6\n",
      "-4\n",
      "0\n",
      "6\n",
      "6\n",
      "118\n",
      "-1\n",
      "440\n",
      "97\n",
      "-16710\n",
      "235395\n"
     ]
    }
   ],
   "source": [
    "for i in range(1, 7):\n",
    "    for j in range(7):\n",
    "        if j == 0:\n",
    "            print(i)\n",
    "        elif i == 1:\n",
    "            print(j)\n",
    "        elif i == 2:\n",
    "            print(j * 2)\n",
    "        elif i == 3:\n",
    "            print(j * (j + 3))\n",
    "        elif i == 4:\n",
    "            print((j - 1) * (j + 4))\n",
    "        elif i == 5:\n",
    "            print(j * (j - 5))\n",
    "        elif i == 6:\n",
    "            print(97 + (-7) ** j * (j - 4))\n"
   ]
  },
  {
   "cell_type": "markdown",
   "id": "ceeff2aa",
   "metadata": {},
   "source": [
    "4. Write a program to produce the following output using for loops. Then \n",
    "use a class constant to make it possible to change the number of lines in \n",
    "the figure.\n",
    "1\n",
    "22\n",
    "333\n",
    "4444\n",
    "55555\n",
    "666666\n",
    "7777777"
   ]
  },
  {
   "cell_type": "code",
   "execution_count": 8,
   "id": "e2014b9d",
   "metadata": {},
   "outputs": [
    {
     "name": "stdout",
     "output_type": "stream",
     "text": [
      "1\n",
      "22\n",
      "333\n",
      "4444\n",
      "55555\n",
      "666666\n",
      "7777777\n"
     ]
    }
   ],
   "source": [
    "class NumberTriangle:\n",
    "    LINES = 7  # Change this constant to adjust the number of lines\n",
    "\n",
    "    def print_triangle(self):\n",
    "        for i in range(1, self.LINES + 1):\n",
    "            for j in range(i):\n",
    "                print(i, end=\"\")\n",
    "            print()\n",
    "\n",
    "# Create an instance of the class and print the triangle\n",
    "triangle = NumberTriangle()\n",
    "triangle.print_triangle()\n"
   ]
  },
  {
   "cell_type": "markdown",
   "id": "49cae5ff",
   "metadata": {},
   "source": [
    "5. Write a method named pay that accepts two parameters: a real number \n",
    "for a TA's salary, and an integer for the number of hours the TA worked \n",
    "this week. The method should return how much money to pay the TA. \n",
    "For example, the call \n",
    "pay(5.50, 6)\n",
    "should return \n",
    "33.0. \n",
    "The TA should receive \"overtime\" pay of 1 ½ normal salary for any hours \n",
    "above 8. For example, the call pay(4.00, 11) should return (4.00 * 8) + (6.00 * 3) or 50.0."
   ]
  },
  {
   "cell_type": "code",
   "execution_count": 9,
   "id": "cd512d40",
   "metadata": {},
   "outputs": [
    {
     "name": "stdout",
     "output_type": "stream",
     "text": [
      "Total pay: 33.0\n",
      "Total pay with overtime: 50.0\n"
     ]
    }
   ],
   "source": [
    "def pay(hourly_rate, hours_worked):\n",
    "    regular_hours = 8\n",
    "    overtime_rate = 1.5\n",
    "\n",
    "    if hours_worked <= regular_hours:\n",
    "        total_pay = hourly_rate * hours_worked\n",
    "    else:\n",
    "        regular_pay = hourly_rate * regular_hours\n",
    "        overtime_pay = hourly_rate * overtime_rate * (hours_worked - regular_hours)\n",
    "        total_pay = regular_pay + overtime_pay\n",
    "\n",
    "    return total_pay\n",
    "\n",
    "# Example usage:\n",
    "salary = pay(5.50, 6)\n",
    "print(f'Total pay: {salary}')\n",
    "\n",
    "salary_overtime = pay(4.00, 11)\n",
    "print(f'Total pay with overtime: {salary_overtime}')\n"
   ]
  },
  {
   "cell_type": "markdown",
   "id": "3ebd14e5",
   "metadata": {},
   "source": [
    "6. Consider the following method for converting milliseconds into days:\n",
    "// converts milliseconds to days\n",
    "def toDays(millis):\n",
    " return millis / 1000.0 / 60.0 / 60.0 / 24.0\n",
    " \n",
    "Write a similar method named area that takes as a parameter the radius of \n",
    "a circle and that returns the area of the circle. For example, the call \n",
    "\n",
    "area(2.0);\n",
    "\n",
    "should return \n",
    "\n",
    "12.566370614359172. \n",
    "\n",
    "Recall that area can be computed as π times the radius squared and that \n",
    "Python has a constant called math.pi"
   ]
  },
  {
   "cell_type": "code",
   "execution_count": 10,
   "id": "e6039fad",
   "metadata": {},
   "outputs": [
    {
     "name": "stdout",
     "output_type": "stream",
     "text": [
      "The area of the circle with radius 2.0 is: 12.566370614359172\n"
     ]
    }
   ],
   "source": [
    "import math\n",
    "\n",
    "def calculate_area(radius):\n",
    "    return math.pi * radius**2\n",
    "\n",
    "# Example usage:\n",
    "radius = 2.0\n",
    "circle_area = calculate_area(radius)\n",
    "print(f'The area of the circle with radius {radius} is: {circle_area}')\n"
   ]
  },
  {
   "cell_type": "markdown",
   "id": "838beaca",
   "metadata": {},
   "source": [
    "7. Copy and paste the following code into pythons IDLE script \n",
    "environment.\n",
    " low = 1\n",
    " high = 1001\n",
    " sum = 0\n",
    " for i in range(low,high):\n",
    " sum += i\n",
    " \n",
    " print(\"sum = \" , sum)\n",
    " \n",
    "Modify the code to use a input to prompt the user for the values of low\n",
    "and high. Below is a sample execution in which the user asks for the same \n",
    "values as in the original program (1 through 1000):\n",
    "low? 1\n",
    "high? 1001\n",
    "sum = 500500\n",
    "Below is an execution with different values for low and high:\n",
    "low? 300\n",
    "high? 5298\n",
    "sum = 13986903\n",
    "You should exactly reproduce this format"
   ]
  },
  {
   "cell_type": "code",
   "execution_count": 1,
   "id": "edd77485",
   "metadata": {},
   "outputs": [
    {
     "name": "stdout",
     "output_type": "stream",
     "text": [
      "low? 300\n",
      "high? 5293\n",
      "sum =  13960428\n"
     ]
    }
   ],
   "source": [
    "low = int(input(\"low? \"))\n",
    "high = int(input(\"high? \"))\n",
    "sum = 0\n",
    "for i in range(low, high):\n",
    "    sum += i\n",
    "\n",
    "print(\"sum = \", sum)\n"
   ]
  },
  {
   "cell_type": "markdown",
   "id": "abce2b5e",
   "metadata": {},
   "source": [
    "8. Write a program using while loop that prompts the user for numbers until \n",
    "the user types 0, then outputs their sum"
   ]
  },
  {
   "cell_type": "code",
   "execution_count": 2,
   "id": "1c1d3d24",
   "metadata": {},
   "outputs": [
    {
     "name": "stdout",
     "output_type": "stream",
     "text": [
      "Enter a number: 10\n",
      "Enter a number: 5\n",
      "Enter a number: 3\n",
      "Enter a number: 9\n",
      "Enter a number: 1\n",
      "Enter a number: 0\n",
      "The sum of the numbers you entered is **28**.\n"
     ]
    }
   ],
   "source": [
    "sum = 0\n",
    "num = int(input(\"Enter a number: \"))\n",
    "while num != 0:\n",
    "    sum += num\n",
    "    num = int(input(\"Enter a number: \"))\n",
    "print(f\"The sum of the numbers you entered is **{sum}**.\")\n"
   ]
  },
  {
   "cell_type": "markdown",
   "id": "2764e0d0",
   "metadata": {},
   "source": [
    "9. Write a program using while loop that prompts the user for numbers until \n",
    "the user types -1, then outputs their sum."
   ]
  },
  {
   "cell_type": "code",
   "execution_count": 3,
   "id": "a7ee98f0",
   "metadata": {},
   "outputs": [
    {
     "name": "stdout",
     "output_type": "stream",
     "text": [
      "Enter a number: 6\n",
      "Enter a number: 7\n",
      "Enter a number: 9\n",
      "Enter a number: 4\n",
      "Enter a number: 2\n",
      "Enter a number: 14\n",
      "Enter a number: -2\n",
      "Enter a number: -1\n",
      "The sum of the numbers you entered is **39**.\n"
     ]
    }
   ],
   "source": [
    "sum = -1\n",
    "num = int(input(\"Enter a number: \"))\n",
    "while num != -1:\n",
    "    sum += num\n",
    "    num = int(input(\"Enter a number: \"))\n",
    "print(f\"The sum of the numbers you entered is **{sum}**.\")\n"
   ]
  },
  {
   "cell_type": "markdown",
   "id": "85539dad",
   "metadata": {},
   "source": [
    "10.Write a method named repl that accepts a String and a number of \n",
    "repetitions as parameters and returns the String concatenated that many \n",
    "times. For example, the call repl(\"hello\", 3) returns \"hellohellohello\". \n",
    "If the number of repetitions is 0 or less, an empty string is returned.\n"
   ]
  },
  {
   "cell_type": "code",
   "execution_count": 9,
   "id": "bacac664",
   "metadata": {},
   "outputs": [],
   "source": [
    "def repl(string, n):\n",
    "    if n <= 0:\n",
    "        return \"\"\n",
    "    return string * n\n"
   ]
  },
  {
   "cell_type": "code",
   "execution_count": 10,
   "id": "7ab41af4",
   "metadata": {},
   "outputs": [
    {
     "data": {
      "text/plain": [
       "'tech4devtech4devtech4devtech4dev'"
      ]
     },
     "execution_count": 10,
     "metadata": {},
     "output_type": "execute_result"
    }
   ],
   "source": [
    " repl(\"tech4dev\", 4)\n",
    "    "
   ]
  },
  {
   "cell_type": "markdown",
   "id": "c8fe7c6c",
   "metadata": {},
   "source": [
    "11.Write a method called printRange that accepts two integers as arguments and \n",
    "prints the sequence of numbers between the two arguments, separated by \n",
    "spaces. Print an increasing sequence if the first argument is smaller than \n",
    "the second; otherwise, print a decreasing sequence. If the two numbers \n",
    "are the same, that number should be printed by itself. Here are some \n",
    "sample calls to printRange:\n",
    "\n",
    "printRange(2, 7)\n",
    "printRange(19, 11)\n",
    "printRange(5, 5)\n",
    "\n",
    "The output produced should be the following: \n",
    "2 3 4 5 6 7 \n",
    "19 18 17 16 15 14 13 12 11 \n",
    "5"
   ]
  },
  {
   "cell_type": "code",
   "execution_count": 11,
   "id": "988e5946",
   "metadata": {},
   "outputs": [],
   "source": [
    "def printRange(num1, num2):\n",
    "    if num1 == num2:\n",
    "        print(num1)\n",
    "    elif num1 < num2:\n",
    "        for i in range(num1, num2+1):\n",
    "            print(i, end=\" \")\n",
    "    else:\n",
    "        for i in range(num1, num2-1, -1):\n",
    "            print(i, end=\" \")\n",
    "    print()\n"
   ]
  },
  {
   "cell_type": "code",
   "execution_count": 12,
   "id": "9fa5a2ef",
   "metadata": {},
   "outputs": [
    {
     "name": "stdout",
     "output_type": "stream",
     "text": [
      "2 3 4 5 6 7 \n"
     ]
    }
   ],
   "source": [
    "printRange(2, 7)"
   ]
  },
  {
   "cell_type": "code",
   "execution_count": 13,
   "id": "f65361c9",
   "metadata": {},
   "outputs": [
    {
     "name": "stdout",
     "output_type": "stream",
     "text": [
      "19 18 17 16 15 14 13 12 11 \n"
     ]
    }
   ],
   "source": [
    "printRange(19, 11)"
   ]
  },
  {
   "cell_type": "code",
   "execution_count": 14,
   "id": "795f664e",
   "metadata": {},
   "outputs": [
    {
     "name": "stdout",
     "output_type": "stream",
     "text": [
      "5\n",
      "\n"
     ]
    }
   ],
   "source": [
    "printRange(5, 5)"
   ]
  },
  {
   "cell_type": "markdown",
   "id": "6c39f382",
   "metadata": {},
   "source": [
    "12.Write a method named smallestLargest that asks the user to enter numbers, \n",
    "then prints the smallest and largest of all the numbers typed in by the \n",
    "user. You may assume the user enters a valid number greater than 0 for \n",
    "the number of numbers to read. Here is an example dialogue: \n",
    "How many numbers do you want to enter? 4\n",
    "Number 1: 5\n",
    "Number 2: 11\n",
    "Number 3: -2\n",
    "Number 4: 3\n",
    "Smallest = -2\n",
    "Largest = 11"
   ]
  },
  {
   "cell_type": "code",
   "execution_count": 29,
   "id": "d4796cad",
   "metadata": {},
   "outputs": [],
   "source": [
    "def smallestLargest():\n",
    "    num = int(input(\"How many numbers do you want to enter? \"))\n",
    "    if num <= 0:\n",
    "        return\n",
    "    smallest = largest = int(input(f\"Number 1: \"))\n",
    "    for i in range(2, num+1):\n",
    "        n = int(input(f\"Number {i}: \"))\n",
    "        if n < smallest:\n",
    "            smallest = n\n",
    "        elif n > largest:\n",
    "            largest = n\n",
    "    print(f\"Smallest = **{smallest}**\")\n",
    "    print(f\"Largest = **{largest}**\")\n"
   ]
  },
  {
   "cell_type": "code",
   "execution_count": 36,
   "id": "93ca948c",
   "metadata": {},
   "outputs": [
    {
     "name": "stdout",
     "output_type": "stream",
     "text": [
      "Object `enter` not found.\n"
     ]
    }
   ],
   "source": [
    "How many numbers do you want to enter?\n"
   ]
  },
  {
   "cell_type": "markdown",
   "id": "7ca84733",
   "metadata": {},
   "source": [
    "13.Write a method called printAverage that uses a sentinel loop to \n",
    "repeatedly prompt the user for numbers. Once the user types any number \n",
    "less than zero, the method should display the average of all nonnegative \n",
    "numbers typed. Display the average as a double. Here is a sample \n",
    "dialogue with the user:\n",
    "Type a number: 7\n",
    "Type a number: 4\n",
    "Type a number: 16\n",
    "Type a number: –4\n",
    "Average was 9.0\n",
    "If the first number that the user types is negative, do not print an average:\n",
    "Type a number: –2"
   ]
  },
  {
   "cell_type": "code",
   "execution_count": 15,
   "id": "945aebb3",
   "metadata": {},
   "outputs": [],
   "source": [
    "def printAverage():\n",
    "    sum = 0\n",
    "    count = 0\n",
    "    num = 0\n",
    "    while True:\n",
    "        num = int(input(\"Type a number: \"))\n",
    "        if num < 0:\n",
    "            break\n",
    "        sum += num\n",
    "        count += 1\n",
    "    if count > 0:\n",
    "        avg = sum / count\n",
    "        print(f\"Average was {avg:.1f}\")\n"
   ]
  },
  {
   "cell_type": "code",
   "execution_count": 16,
   "id": "95202449",
   "metadata": {},
   "outputs": [
    {
     "name": "stdout",
     "output_type": "stream",
     "text": [
      "Type a number: 7\n",
      "Type a number: 4\n",
      "Type a number: 16\n",
      "Type a number: -4\n",
      "Average was 9.0\n"
     ]
    }
   ],
   "source": [
    "printAverage()"
   ]
  },
  {
   "cell_type": "code",
   "execution_count": 17,
   "id": "2c707f7b",
   "metadata": {},
   "outputs": [
    {
     "name": "stdout",
     "output_type": "stream",
     "text": [
      "Type a number: -3\n"
     ]
    }
   ],
   "source": [
    "printAverage()"
   ]
  },
  {
   "cell_type": "markdown",
   "id": "0670dd32",
   "metadata": {},
   "source": [
    "14.Write a method named numUnique that takes three integers as parameters \n",
    "and returns the number of unique integers among the three. For example, \n",
    "the call numUnique(18, 3, 4) should return 3 because the parameters \n",
    "have three different values. By contrast, the call numUnique(6, 7, 6)\n",
    "should return 2 because there are only two unique numbers among the \n",
    "three parameters: 6 and 7"
   ]
  },
  {
   "cell_type": "code",
   "execution_count": 18,
   "id": "d4d23d1d",
   "metadata": {},
   "outputs": [],
   "source": [
    "def numUnique(a, b, c):\n",
    "    if a == b == c:\n",
    "        return 1\n",
    "    elif a == b or b == c or a == c:\n",
    "        return 2\n",
    "    else:\n",
    "        return 3\n"
   ]
  },
  {
   "cell_type": "code",
   "execution_count": 12,
   "id": "41d43f50",
   "metadata": {},
   "outputs": [
    {
     "data": {
      "text/plain": [
       "3"
      ]
     },
     "execution_count": 12,
     "metadata": {},
     "output_type": "execute_result"
    }
   ],
   "source": [
    "numUnique(18, 3, 4)\n"
   ]
  },
  {
   "cell_type": "code",
   "execution_count": 13,
   "id": "c383445d",
   "metadata": {},
   "outputs": [
    {
     "data": {
      "text/plain": [
       "1"
      ]
     },
     "execution_count": 13,
     "metadata": {},
     "output_type": "execute_result"
    }
   ],
   "source": [
    "numUnique(2, 2, 2)"
   ]
  },
  {
   "cell_type": "code",
   "execution_count": 14,
   "id": "5acf19ec",
   "metadata": {},
   "outputs": [
    {
     "data": {
      "text/plain": [
       "2"
      ]
     },
     "execution_count": 14,
     "metadata": {},
     "output_type": "execute_result"
    }
   ],
   "source": [
    "numUnique(2, 3, 2)"
   ]
  },
  {
   "cell_type": "markdown",
   "id": "51387524",
   "metadata": {},
   "source": [
    "15.A Random object generates pseudo-random numbers. Find out how to \n",
    "use the Random class and write a program that simulates rolling of two 6-\n",
    "sided dice until their combined result comes up as 7. One possible output \n",
    "can be seen as below:\n",
    " 2 + 4 = 6\n",
    "3 + 5 = 8\n",
    "5 + 6 = 11\n",
    "1 + 1 = 2\n",
    "4 + 3 = 7\n",
    "You won after 5 tries"
   ]
  },
  {
   "cell_type": "code",
   "execution_count": null,
   "id": "c98bf917",
   "metadata": {},
   "outputs": [],
   "source": [
    "import random\n",
    "\n",
    "count = 0\n",
    "while True:\n",
    "    count += 1\n",
    "    dice1 = random.randint(1, 6)\n",
    "    dice2 = random.randint(1, 6)\n",
    "    total = dice1 + dice2\n",
    "    print(f\"{dice1} + {dice2} = {total}\")\n",
    "    if total == 7:\n",
    "        print(f\"You won after {count} tries\")\n",
    "        break\n"
   ]
  },
  {
   "cell_type": "code",
   "execution_count": null,
   "id": "9f6427ba",
   "metadata": {},
   "outputs": [],
   "source": [
    "5 + 4 = 9\n",
    "3 + 1 = 4\n",
    "6 + 1 = 7\n",
    "You won after 3 tries\n"
   ]
  },
  {
   "cell_type": "code",
   "execution_count": null,
   "id": "94f1a3e1",
   "metadata": {},
   "outputs": [],
   "source": []
  }
 ],
 "metadata": {
  "kernelspec": {
   "display_name": "Python 3 (ipykernel)",
   "language": "python",
   "name": "python3"
  },
  "language_info": {
   "codemirror_mode": {
    "name": "ipython",
    "version": 3
   },
   "file_extension": ".py",
   "mimetype": "text/x-python",
   "name": "python",
   "nbconvert_exporter": "python",
   "pygments_lexer": "ipython3",
   "version": "3.11.4"
  }
 },
 "nbformat": 4,
 "nbformat_minor": 5
}
